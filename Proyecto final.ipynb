{
 "cells": [
  {
   "cell_type": "code",
   "execution_count": null,
   "id": "2d38fbe2",
   "metadata": {},
   "outputs": [],
   "source": [
    "#Este Notebook se utilizara para el proyecto final del curso 8"
   ]
  },
  {
   "cell_type": "code",
   "execution_count": 1,
   "id": "e29083d6",
   "metadata": {},
   "outputs": [
    {
     "name": "stdout",
     "output_type": "stream",
     "text": [
      "¡Hola, Proyecto Final del Curso!\n"
     ]
    }
   ],
   "source": [
    "import pandas as pd\n",
    "import numpy as np\n",
    "print('¡Hola, Proyecto Final del Curso!')"
   ]
  },
  {
   "cell_type": "code",
   "execution_count": null,
   "id": "a896f23d",
   "metadata": {},
   "outputs": [],
   "source": []
  }
 ],
 "metadata": {
  "kernelspec": {
   "display_name": "Python 3",
   "language": "python",
   "name": "python3"
  },
  "language_info": {
   "codemirror_mode": {
    "name": "ipython",
    "version": 3
   },
   "file_extension": ".py",
   "mimetype": "text/x-python",
   "name": "python",
   "nbconvert_exporter": "python",
   "pygments_lexer": "ipython3",
   "version": "3.8.8"
  }
 },
 "nbformat": 4,
 "nbformat_minor": 5
}
